{
 "cells": [
  {
   "cell_type": "code",
   "execution_count": 1,
   "id": "63d576b6",
   "metadata": {},
   "outputs": [
    {
     "name": "stderr",
     "output_type": "stream",
     "text": [
      "c:\\Users\\leona\\anaconda3\\envs\\doutorado\\lib\\site-packages\\tqdm\\auto.py:21: TqdmWarning: IProgress not found. Please update jupyter and ipywidgets. See https://ipywidgets.readthedocs.io/en/stable/user_install.html\n",
      "  from .autonotebook import tqdm as notebook_tqdm\n"
     ]
    }
   ],
   "source": [
    "from torchvision import models, transforms\n",
    "from PIL import Image\n",
    "import torch\n",
    "from models import *\n",
    "import matplotlib.pyplot as plt \n",
    "import numpy as np\n",
    "import torch.nn as nn\n",
    "from captum.attr import visualization as viz\n",
    "from dataloaders import presets\n",
    "import os\n",
    "import pickle\n",
    "import pandas as pd\n",
    "from utils.utils import create_folder, load_config\n",
    "from dataloaders.presets import PresetTransform\n",
    "from captum.attr import *\n",
    "\n",
    "from skimage.segmentation import slic, mark_boundaries\n",
    "from captum.metrics import infidelity, sensitivity_max\n",
    "from tqdm import tqdm\n",
    "from PIL import ImageFilter"
   ]
  },
  {
   "cell_type": "markdown",
   "id": "ee8e3449",
   "metadata": {},
   "source": [
    "# Load Folds Results"
   ]
  },
  {
   "cell_type": "code",
   "execution_count": 2,
   "id": "2ffd3c2c",
   "metadata": {},
   "outputs": [],
   "source": [
    "device = 'cuda'\n",
    "model = 'NCNN'\n",
    "\n",
    "path_experiments = f'experiments\\\\{model}'"
   ]
  },
  {
   "cell_type": "markdown",
   "id": "a04e2c8b",
   "metadata": {},
   "source": [
    "# Aux Functions"
   ]
  },
  {
   "cell_type": "code",
   "execution_count": null,
   "id": "1c58e7d9",
   "metadata": {},
   "outputs": [],
   "source": [
    "def perturb_fn(inputs):\n",
    "    noise = torch.tensor(np.random.normal(0, 0.1, inputs.shape)).float().to(inputs.device)\n",
    "    return noise, torch.clip(inputs - noise, 0, 1)\n",
    "\n",
    "def rgb_to_gray_and_scale(x):\n",
    "    x = np.asarray(x)\n",
    "    # Shape must be in (H, W, C)\n",
    "    x_combined = np.sum(x, axis=2)\n",
    "\n",
    "    sorted_vals = np.sort(np.abs(x_combined).flatten())\n",
    "    cum_sums = np.cumsum(sorted_vals)\n",
    "    threshold_id: int = np.where(cum_sums >= cum_sums[-1] * 0.01 * 98)[0][0]\n",
    "    threshold = sorted_vals[threshold_id]\n",
    "\n",
    "    attr_norm = x_combined / threshold\n",
    "    \n",
    "    return np.clip(attr_norm, -1, 1)\n",
    "\n",
    "# --- Create superpixel feature mask for Captum ---\n",
    "def make_feature_mask(img_tensor, n_segments=100):\n",
    "    x = img_tensor.detach().cpu().squeeze(0)  # 3 x H x W\n",
    "    x_np = x.numpy()\n",
    "    x_np = (x_np - x_np.min()) / (x_np.max() - x_np.min() + 1e-8)\n",
    "    x_np = np.transpose(x_np, (1, 2, 0))  # H, W, 3\n",
    "\n",
    "    seg = slic(x_np, n_segments=n_segments, compactness=10.0, sigma=0.0,\n",
    "               start_label=0, channel_axis=2)\n",
    "\n",
    "    seg_t = torch.from_numpy(seg).long().unsqueeze(0).unsqueeze(0)\n",
    "    return seg_t, seg"
   ]
  },
  {
   "cell_type": "markdown",
   "id": "0958291f",
   "metadata": {},
   "source": [
    "# Run for each Explainer"
   ]
  },
  {
   "cell_type": "code",
   "execution_count": 13,
   "id": "b3d4817e",
   "metadata": {},
   "outputs": [
    {
     "name": "stderr",
     "output_type": "stream",
     "text": [
      "  0%|          | 0/50 [00:00<?, ?it/s]"
     ]
    },
    {
     "name": "stderr",
     "output_type": "stream",
     "text": [
      " 14%|█▍        | 7/50 [00:03<00:19,  2.16it/s]\n"
     ]
    },
    {
     "ename": "KeyboardInterrupt",
     "evalue": "",
     "output_type": "error",
     "traceback": [
      "\u001b[1;31m---------------------------------------------------------------------------\u001b[0m",
      "\u001b[1;31mKeyboardInterrupt\u001b[0m                         Traceback (most recent call last)",
      "Cell \u001b[1;32mIn[13], line 151\u001b[0m\n\u001b[0;32m    134\u001b[0m attributions \u001b[38;5;241m=\u001b[39m attribution_method\u001b[38;5;241m.\u001b[39mattribute(input_tensor, \u001b[38;5;241m*\u001b[39m\u001b[38;5;241m*\u001b[39mkwargs)\n\u001b[0;32m    136\u001b[0m \u001b[38;5;66;03m# ------------------------------------------------------------ #\u001b[39;00m\n\u001b[0;32m    137\u001b[0m \n\u001b[0;32m    138\u001b[0m \u001b[38;5;66;03m## LIME\u001b[39;00m\n\u001b[1;32m   (...)\u001b[0m\n\u001b[0;32m    149\u001b[0m \n\u001b[0;32m    150\u001b[0m \u001b[38;5;66;03m# Compute sensitivity and infidelity metrics.\u001b[39;00m\n\u001b[1;32m--> 151\u001b[0m sens \u001b[38;5;241m=\u001b[39m sensitivity_max(attribution_method\u001b[38;5;241m.\u001b[39mattribute, input_tensor, \u001b[38;5;241m*\u001b[39m\u001b[38;5;241m*\u001b[39mkwargs)\n\u001b[0;32m    152\u001b[0m infid \u001b[38;5;241m=\u001b[39m infidelity(model, perturb_fn, input_tensor, attributions, normalize\u001b[38;5;241m=\u001b[39m\u001b[38;5;28;01mTrue\u001b[39;00m)\n\u001b[0;32m    154\u001b[0m \u001b[38;5;66;03m# Normalize and save the attributions.\u001b[39;00m\n",
      "File \u001b[1;32mc:\\Users\\leona\\anaconda3\\envs\\doutorado\\lib\\site-packages\\captum\\log\\dummy_log.py:39\u001b[0m, in \u001b[0;36mlog_usage.<locals>._log_usage.<locals>.wrapper\u001b[1;34m(*args, **kwargs)\u001b[0m\n\u001b[0;32m     35\u001b[0m \u001b[38;5;129m@wraps\u001b[39m(func)\n\u001b[0;32m     36\u001b[0m \u001b[38;5;66;03m# pyre-fixme[53]: Captured variable `func` is not annotated.\u001b[39;00m\n\u001b[0;32m     37\u001b[0m \u001b[38;5;66;03m# pyre-fixme[3]: Return type must be annotated.\u001b[39;00m\n\u001b[0;32m     38\u001b[0m \u001b[38;5;28;01mdef\u001b[39;00m \u001b[38;5;21mwrapper\u001b[39m(\u001b[38;5;241m*\u001b[39margs: Any, \u001b[38;5;241m*\u001b[39m\u001b[38;5;241m*\u001b[39mkwargs: Any):\n\u001b[1;32m---> 39\u001b[0m     \u001b[38;5;28;01mreturn\u001b[39;00m func(\u001b[38;5;241m*\u001b[39margs, \u001b[38;5;241m*\u001b[39m\u001b[38;5;241m*\u001b[39mkwargs)\n",
      "File \u001b[1;32mc:\\Users\\leona\\anaconda3\\envs\\doutorado\\lib\\site-packages\\captum\\metrics\\_core\\sensitivity.py:325\u001b[0m, in \u001b[0;36msensitivity_max\u001b[1;34m(explanation_func, inputs, perturb_func, perturb_radius, n_perturb_samples, norm_ord, max_examples_per_batch, **kwargs)\u001b[0m\n\u001b[0;32m    323\u001b[0m \u001b[38;5;28;01mwith\u001b[39;00m torch\u001b[38;5;241m.\u001b[39mno_grad():\n\u001b[0;32m    324\u001b[0m     expl_inputs \u001b[38;5;241m=\u001b[39m explanation_func(inputs, \u001b[38;5;241m*\u001b[39m\u001b[38;5;241m*\u001b[39mkwargs)\n\u001b[1;32m--> 325\u001b[0m     metrics_max \u001b[38;5;241m=\u001b[39m \u001b[43m_divide_and_aggregate_metrics\u001b[49m\u001b[43m(\u001b[49m\n\u001b[0;32m    326\u001b[0m \u001b[43m        \u001b[49m\u001b[43mcast\u001b[49m\u001b[43m(\u001b[49m\u001b[43mTuple\u001b[49m\u001b[43m[\u001b[49m\u001b[43mTensor\u001b[49m\u001b[43m,\u001b[49m\u001b[43m \u001b[49m\u001b[38;5;241;43m.\u001b[39;49m\u001b[38;5;241;43m.\u001b[39;49m\u001b[38;5;241;43m.\u001b[39;49m\u001b[43m]\u001b[49m\u001b[43m,\u001b[49m\u001b[43m \u001b[49m\u001b[43minputs\u001b[49m\u001b[43m)\u001b[49m\u001b[43m,\u001b[49m\n\u001b[0;32m    327\u001b[0m \u001b[43m        \u001b[49m\u001b[43mn_perturb_samples\u001b[49m\u001b[43m,\u001b[49m\n\u001b[0;32m    328\u001b[0m \u001b[43m        \u001b[49m\u001b[43m_next_sensitivity_max\u001b[49m\u001b[43m,\u001b[49m\n\u001b[0;32m    329\u001b[0m \u001b[43m        \u001b[49m\u001b[43mmax_examples_per_batch\u001b[49m\u001b[38;5;241;43m=\u001b[39;49m\u001b[43mmax_examples_per_batch\u001b[49m\u001b[43m,\u001b[49m\n\u001b[0;32m    330\u001b[0m \u001b[43m        \u001b[49m\u001b[43magg_func\u001b[49m\u001b[38;5;241;43m=\u001b[39;49m\u001b[43mtorch\u001b[49m\u001b[38;5;241;43m.\u001b[39;49m\u001b[43mmax\u001b[49m\u001b[43m,\u001b[49m\n\u001b[0;32m    331\u001b[0m \u001b[43m    \u001b[49m\u001b[43m)\u001b[49m\n\u001b[0;32m    332\u001b[0m \u001b[38;5;28;01mreturn\u001b[39;00m metrics_max\n",
      "File \u001b[1;32mc:\\Users\\leona\\anaconda3\\envs\\doutorado\\lib\\site-packages\\captum\\metrics\\_utils\\batching.py:76\u001b[0m, in \u001b[0;36m_divide_and_aggregate_metrics\u001b[1;34m(inputs, n_perturb_samples, metric_func, agg_func, max_examples_per_batch)\u001b[0m\n\u001b[0;32m     68\u001b[0m max_inps_per_batch \u001b[38;5;241m=\u001b[39m (\n\u001b[0;32m     69\u001b[0m     n_perturb_samples\n\u001b[0;32m     70\u001b[0m     \u001b[38;5;28;01mif\u001b[39;00m max_examples_per_batch \u001b[38;5;129;01mis\u001b[39;00m \u001b[38;5;28;01mNone\u001b[39;00m\n\u001b[0;32m     71\u001b[0m     \u001b[38;5;28;01melse\u001b[39;00m \u001b[38;5;28mmin\u001b[39m(\u001b[38;5;28mmax\u001b[39m(max_examples_per_batch \u001b[38;5;241m/\u001b[39m\u001b[38;5;241m/\u001b[39m bsz, \u001b[38;5;241m1\u001b[39m), n_perturb_samples)\n\u001b[0;32m     72\u001b[0m )\n\u001b[0;32m     74\u001b[0m current_n_steps \u001b[38;5;241m=\u001b[39m max_inps_per_batch\n\u001b[1;32m---> 76\u001b[0m metrics_sum \u001b[38;5;241m=\u001b[39m \u001b[43mmetric_func\u001b[49m\u001b[43m(\u001b[49m\u001b[43mmax_inps_per_batch\u001b[49m\u001b[43m)\u001b[49m\n\u001b[0;32m     78\u001b[0m \u001b[38;5;28;01mwhile\u001b[39;00m current_n_steps \u001b[38;5;241m<\u001b[39m n_perturb_samples:\n\u001b[0;32m     79\u001b[0m     current_n_steps \u001b[38;5;241m+\u001b[39m\u001b[38;5;241m=\u001b[39m max_inps_per_batch\n",
      "File \u001b[1;32mc:\\Users\\leona\\anaconda3\\envs\\doutorado\\lib\\site-packages\\captum\\metrics\\_core\\sensitivity.py:304\u001b[0m, in \u001b[0;36msensitivity_max.<locals>._next_sensitivity_max\u001b[1;34m(current_n_perturb_samples)\u001b[0m\n\u001b[0;32m    292\u001b[0m \u001b[38;5;66;03m# compute the norm of original input explanations\u001b[39;00m\n\u001b[0;32m    293\u001b[0m expl_inputs_norm_expanded \u001b[38;5;241m=\u001b[39m torch\u001b[38;5;241m.\u001b[39mnorm(\n\u001b[0;32m    294\u001b[0m     torch\u001b[38;5;241m.\u001b[39mcat(\n\u001b[0;32m    295\u001b[0m         [expl_input\u001b[38;5;241m.\u001b[39mview(expl_input\u001b[38;5;241m.\u001b[39msize(\u001b[38;5;241m0\u001b[39m), \u001b[38;5;241m-\u001b[39m\u001b[38;5;241m1\u001b[39m) \u001b[38;5;28;01mfor\u001b[39;00m expl_input \u001b[38;5;129;01min\u001b[39;00m expl_inputs],\n\u001b[1;32m   (...)\u001b[0m\n\u001b[0;32m    300\u001b[0m     keepdim\u001b[38;5;241m=\u001b[39m\u001b[38;5;28;01mTrue\u001b[39;00m,\n\u001b[0;32m    301\u001b[0m )\u001b[38;5;241m.\u001b[39mrepeat_interleave(current_n_perturb_samples, dim\u001b[38;5;241m=\u001b[39m\u001b[38;5;241m0\u001b[39m)\n\u001b[0;32m    302\u001b[0m expl_inputs_norm_expanded \u001b[38;5;241m=\u001b[39m torch\u001b[38;5;241m.\u001b[39mwhere(\n\u001b[0;32m    303\u001b[0m     expl_inputs_norm_expanded \u001b[38;5;241m==\u001b[39m \u001b[38;5;241m0.0\u001b[39m,\n\u001b[1;32m--> 304\u001b[0m     \u001b[43mtorch\u001b[49m\u001b[38;5;241;43m.\u001b[39;49m\u001b[43mtensor\u001b[49m\u001b[43m(\u001b[49m\n\u001b[0;32m    305\u001b[0m \u001b[43m        \u001b[49m\u001b[38;5;241;43m1.0\u001b[39;49m\u001b[43m,\u001b[49m\n\u001b[0;32m    306\u001b[0m \u001b[43m        \u001b[49m\u001b[43mdevice\u001b[49m\u001b[38;5;241;43m=\u001b[39;49m\u001b[43mexpl_inputs_norm_expanded\u001b[49m\u001b[38;5;241;43m.\u001b[39;49m\u001b[43mdevice\u001b[49m\u001b[43m,\u001b[49m\n\u001b[0;32m    307\u001b[0m \u001b[43m        \u001b[49m\u001b[43mdtype\u001b[49m\u001b[38;5;241;43m=\u001b[39;49m\u001b[43mexpl_inputs_norm_expanded\u001b[49m\u001b[38;5;241;43m.\u001b[39;49m\u001b[43mdtype\u001b[49m\u001b[43m,\u001b[49m\n\u001b[0;32m    308\u001b[0m \u001b[43m    \u001b[49m\u001b[43m)\u001b[49m,\n\u001b[0;32m    309\u001b[0m     expl_inputs_norm_expanded,\n\u001b[0;32m    310\u001b[0m )\n\u001b[0;32m    312\u001b[0m \u001b[38;5;66;03m# compute the norm for each input noisy example\u001b[39;00m\n\u001b[0;32m    313\u001b[0m sensitivities_norm \u001b[38;5;241m=\u001b[39m (\n\u001b[0;32m    314\u001b[0m     torch\u001b[38;5;241m.\u001b[39mnorm(sensitivities, p\u001b[38;5;241m=\u001b[39mnorm_ord, dim\u001b[38;5;241m=\u001b[39m\u001b[38;5;241m1\u001b[39m, keepdim\u001b[38;5;241m=\u001b[39m\u001b[38;5;28;01mTrue\u001b[39;00m)\n\u001b[0;32m    315\u001b[0m     \u001b[38;5;241m/\u001b[39m expl_inputs_norm_expanded\n\u001b[0;32m    316\u001b[0m )\n",
      "\u001b[1;31mKeyboardInterrupt\u001b[0m: "
     ]
    }
   ],
   "source": [
    "import attr\n",
    "from sklearn import base\n",
    "\n",
    "\n",
    "all_data ={'img_path': [], 'fold': [], 'label': [], \n",
    "           'prediction': [], 'probability': [],\n",
    "           'sensitivity': [], 'infidelity': [],\n",
    "           'mask_path': []}\n",
    "\n",
    "\n",
    "for exp in os.listdir(path_experiments):\n",
    "    # Skip non-experiment folders/files.\n",
    "    if any(ext in exp for ext in ['.pkl', 'masks', '.png', '.pdf']):\n",
    "        continue\n",
    "\n",
    "    # Load model and configuration.\n",
    "    path_model = os.path.join(path_experiments, exp, 'Model', 'best_model.pt')\n",
    "    path_yaml  = os.path.join(path_experiments, exp, 'Model', 'config.yaml')\n",
    "    config     = load_config(path_yaml)\n",
    "    test_path  = config['path_test']\n",
    "\n",
    "    # Set up the model, transforms, and attribution objects based on experiment type.\n",
    "    if \"NCNN\" in exp:\n",
    "        model = NCNN().to(device)\n",
    "        img_size = 120\n",
    "        transform = PresetTransform(\"NCNN\").transforms\n",
    "    elif \"VGGFace\" in exp:\n",
    "        model = VGGFace().to(device)\n",
    "        img_size = 224\n",
    "        transform = PresetTransform(\"VGGFace\").transforms\n",
    "    elif \"ViT\" in exp:\n",
    "        model = ViT().to(device)\n",
    "        img_size = 224\n",
    "        transform = PresetTransform(\"ViT\").transforms\n",
    "    else:\n",
    "        continue\n",
    "\n",
    "    # Load the trained weights and set the model to evaluation mode.\n",
    "    model.load_state_dict(torch.load(path_model))\n",
    "    model.eval()\n",
    "\n",
    "    # Get list of test images.\n",
    "    image_files = [f for f in os.listdir(test_path) if f.endswith('.jpg')]\n",
    "\n",
    "    for image_file in tqdm(image_files):\n",
    "        full_img_path = os.path.join(test_path, image_file)\n",
    "\n",
    "        img_rgb = Image.open(os.path.join(full_img_path)).convert(\"RGB\")\n",
    "        img_rgb = img_rgb.resize((img_size, img_size))\n",
    "        \n",
    "        img_name = image_file.split(\".jpg\")[0]\n",
    "        # Extract label from the filename.\n",
    "        label = 1 if image_file.split(\".jpg\")[0].split(\"_\")[3] == 'pain' else 0\n",
    "\n",
    "        if \"VGGFace\" in exp:\n",
    "            img_input = Image.fromarray(np.array(img_rgb)[:, :, ::-1])\n",
    "        else:\n",
    "            img_input = img_rgb\n",
    "\n",
    "        blurred_image = img_input.filter(ImageFilter.GaussianBlur(radius=5))\n",
    "\n",
    "        transformed = transform(img_input)\n",
    "        transformed_blurred = transform(blurred_image)\n",
    "\n",
    "        input_tensor = transformed.unsqueeze(0).to(device)\n",
    "        input_tensor_blurred = transformed_blurred.unsqueeze(0).to(device)\n",
    "\n",
    "        XAI_name = \"DeepL\"  # Change as needed\n",
    "\n",
    "        create_folder(os.path.join(\"RGU\", XAI_name))\n",
    "\n",
    "        ## Integrated Gradients\n",
    "        #attribution_method = IntegratedGradients(model)\n",
    "        #kwargs = {}\n",
    "        #attributions = attribution_method.attribute(input_tensor, **kwargs)\n",
    "        \n",
    "        # ------------------------------------------------------------ #\n",
    "\n",
    "        ## Saliency\n",
    "        #attribution_method = Saliency(model)\n",
    "        #kwargs = {}\n",
    "        #attributions = attribution_method.attribute(input_tensor, **kwargs)\n",
    "        \n",
    "        # ------------------------------------------------------------ #\n",
    "\n",
    "        ## DeepLift\n",
    "        #attribution_method = DeepLift(model)\n",
    "        #kwargs = {'baselines': input_tensor_blurred}\n",
    "        #input_tensor = input_tensor.contiguous()\n",
    "        #attributions = attribution_method.attribute(input_tensor, **kwargs)\n",
    "        \n",
    "        # ------------------------------------------------------------ #\n",
    "\n",
    "        ## Occlusion\n",
    "        #attribution_method = Occlusion(model)\n",
    "        #kwargs = {'sliding_window_shapes':(3,5,5)}\n",
    "        #attributions = attribution_method.attribute(input_tensor, **kwargs)\n",
    "\n",
    "        # ------------------------------------------------------------ #\n",
    "\n",
    "        ## GradCAM\n",
    "        #attribution_method = LayerGradCam(model, model.merge_branch[0])\n",
    "        #kwargs = {}\n",
    "        #attributions = attribution_method.attribute(input_tensor, **kwargs)\n",
    "        #attributions = LayerAttribution.interpolate(attributions, (img_size, img_size), interpolate_mode=\"bilinear\")\n",
    "        #attributions = attributions.repeat(1, 3, 1, 1)\n",
    "        \n",
    "        # ------------------------------------------------------------ #\n",
    "\n",
    "        ## Guided GradCAM\n",
    "        #attribution_method = GuidedGradCam(model, model.merge_branch[0])\n",
    "        #kwargs = {}\n",
    "        #attributions = attribution_method.attribute(input_tensor, **kwargs)\n",
    "        \n",
    "        # ------------------------------------------------------------ #\n",
    "\n",
    "        ## Deconvolution\n",
    "        #attribution_method = Deconvolution(model)\n",
    "        #kwargs = {}\n",
    "        #attributions = attribution_method.attribute(input_tensor, **kwargs)\n",
    "        \n",
    "        # ------------------------------------------------------------ #\n",
    "\n",
    "        ## GradientSHAP\n",
    "        #attribution_method = GradientShap(model)\n",
    "        #kwargs = {'baselines': torch.zeros_like(input_tensor).to(device), 'n_samples': 5, 'stdevs': 0.1}\n",
    "        #attributions = attribution_method.attribute(input_tensor, **kwargs)\n",
    "        \n",
    "        # ------------------------------------------------------------ #\n",
    "\n",
    "        ## DeepLiftSHAP\n",
    "        attribution_method = DeepLiftShap(model)\n",
    "        kwargs = {'baselines': input_tensor_blurred.repeat(3,1,1,1)}\n",
    "        attributions = attribution_method.attribute(input_tensor, **kwargs)\n",
    "\n",
    "        # ------------------------------------------------------------ #\n",
    "\n",
    "        ## LIME\n",
    "        #feature_mask_t, _ = make_feature_mask(input_tensor, n_segments=100)\n",
    "        #feature_mask_t = feature_mask_t.to(device).contiguous()\n",
    "        #input_tensor = input_tensor.contiguous()\n",
    "        #attribution_method = Lime(model)\n",
    "        #kwargs = {'baselines': torch.zeros_like(input_tensor).to(device),\n",
    "        #          'feature_mask': feature_mask_t.to(device), 'n_samples': 1000,\n",
    "        #          'perturbations_per_eval': 64, 'show_progress': False}\n",
    "        #attributions = attribution_method.attribute(input_tensor, **kwargs).contiguous()\n",
    "        \n",
    "        # ------------------------------------------------------------ #\n",
    "\n",
    "        # Compute sensitivity and infidelity metrics.\n",
    "        sens = sensitivity_max(attribution_method.attribute, input_tensor, **kwargs)\n",
    "        infid = infidelity(model, perturb_fn, input_tensor, attributions, normalize=True)\n",
    "\n",
    "        # Normalize and save the attributions.\n",
    "        attributions_normalized = rgb_to_gray_and_scale(attributions.squeeze().cpu().detach().numpy().transpose(1,2,0))\n",
    "        output_path = os.path.join(\"RGU\",XAI_name,img_name+\".npz\")\n",
    "        np.savez_compressed(output_path, mask=attributions_normalized)\n",
    "\n",
    "        # Store all relevant data.\n",
    "        all_data['img_path'].append(full_img_path)\n",
    "        all_data['fold'].append(test_path.split(\"\\\\\")[-2])\n",
    "        all_data['label'].append(label)\n",
    "        all_data['sensitivity'].append(sens.item())\n",
    "        all_data['infidelity'].append(infid.item())\n",
    "        all_data['mask_path'].append(output_path)\n",
    "\n",
    "        probs = model.predict(input_tensor)\n",
    "        pred = (probs >= 0.5).int()\n",
    "        all_data['probability'].append(probs.item())\n",
    "        all_data['prediction'].append(pred.item())\n",
    "\n",
    "dataframe = pd.DataFrame(all_data)\n",
    "dataframe.to_csv(os.path.join(\"RGU\", f'{XAI_name}.csv'), index=False)\n",
    "\n",
    "\n",
    "        \n"
   ]
  },
  {
   "cell_type": "code",
   "execution_count": 14,
   "id": "88414256",
   "metadata": {},
   "outputs": [
    {
     "data": {
      "image/jpeg": "[encoded data removed]",
      "image/png": "[encoded data removed]",
      "text/plain": [
       "<PIL.Image.Image image mode=RGB size=120x120>"
      ]
     },
     "execution_count": 14,
     "metadata": {},
     "output_type": "execute_result"
    }
   ],
   "source": [
    "blurred_image"
   ]
  },
  {
   "cell_type": "code",
   "execution_count": 15,
   "id": "5c27fe9c",
   "metadata": {},
   "outputs": [
    {
     "data": {
      "text/plain": [
       "torch.Size([1, 3, 120, 120])"
      ]
     },
     "execution_count": 15,
     "metadata": {},
     "output_type": "execute_result"
    }
   ],
   "source": [
    "input_tensor.shape"
   ]
  },
  {
   "cell_type": "code",
   "execution_count": 16,
   "id": "7056949c",
   "metadata": {},
   "outputs": [
    {
     "data": {
      "text/plain": [
       "torch.Size([1, 3, 120, 120])"
      ]
     },
     "execution_count": 16,
     "metadata": {},
     "output_type": "execute_result"
    }
   ],
   "source": [
    "attributions.shape"
   ]
  },
  {
   "cell_type": "code",
   "execution_count": 17,
   "id": "116a29fe",
   "metadata": {},
   "outputs": [
    {
     "data": {
      "text/plain": [
       "<matplotlib.image.AxesImage at 0x21af1a790c0>"
      ]
     },
     "execution_count": 17,
     "metadata": {},
     "output_type": "execute_result"
    },
    {
     "data": {
      "image/png": "[encoded data removed]",
      "text/plain": [
       "<Figure size 640x480 with 1 Axes>"
      ]
     },
     "metadata": {},
     "output_type": "display_data"
    }
   ],
   "source": [
    "plt.imshow(attributions_normalized)"
   ]
  },
  {
   "cell_type": "code",
   "execution_count": 9,
   "id": "109aa5d2",
   "metadata": {},
   "outputs": [],
   "source": [
    "data = np.load(output_path)['mask']"
   ]
  },
  {
   "cell_type": "code",
   "execution_count": 10,
   "id": "8bb8bfbe",
   "metadata": {},
   "outputs": [
    {
     "data": {
      "text/plain": [
       "(-1.0, 0.69815975)"
      ]
     },
     "execution_count": 10,
     "metadata": {},
     "output_type": "execute_result"
    }
   ],
   "source": [
    "data.min(), data.max() "
   ]
  },
  {
   "cell_type": "code",
   "execution_count": 11,
   "id": "cbf70249",
   "metadata": {},
   "outputs": [
    {
     "data": {
      "text/plain": [
       "<matplotlib.image.AxesImage at 0x21af1a04130>"
      ]
     },
     "execution_count": 11,
     "metadata": {},
     "output_type": "execute_result"
    },
    {
     "data": {
      "image/png": "[encoded data removed]",
      "text/plain": [
       "<Figure size 640x480 with 1 Axes>"
      ]
     },
     "metadata": {},
     "output_type": "display_data"
    }
   ],
   "source": [
    "plt.imshow(data)"
   ]
  },
  {
   "cell_type": "code",
   "execution_count": null,
   "id": "ded9a148",
   "metadata": {},
   "outputs": [],
   "source": [
    "dataframe = pd.read_csv(os.path.join(\"RGU\", f'{XAI_name}.csv'))"
   ]
  },
  {
   "cell_type": "code",
   "execution_count": null,
   "id": "9cf2ac30",
   "metadata": {},
   "outputs": [
    {
     "data": {
      "text/html": [
       "<div>\n",
       "<style scoped>\n",
       "    .dataframe tbody tr th:only-of-type {\n",
       "        vertical-align: middle;\n",
       "    }\n",
       "\n",
       "    .dataframe tbody tr th {\n",
       "        vertical-align: top;\n",
       "    }\n",
       "\n",
       "    .dataframe thead th {\n",
       "        text-align: right;\n",
       "    }\n",
       "</style>\n",
       "<table border=\"1\" class=\"dataframe\">\n",
       "  <thead>\n",
       "    <tr style=\"text-align: right;\">\n",
       "      <th></th>\n",
       "      <th>img_path</th>\n",
       "      <th>fold</th>\n",
       "      <th>label</th>\n",
       "      <th>prediction</th>\n",
       "      <th>probability</th>\n",
       "      <th>sensitivity</th>\n",
       "      <th>infidelity</th>\n",
       "      <th>mask_path</th>\n",
       "    </tr>\n",
       "  </thead>\n",
       "  <tbody>\n",
       "    <tr>\n",
       "      <th>0</th>\n",
       "      <td>Datasets\\Folds\\0\\Test\\ID167_iCOPE_S15_pain.jpg</td>\n",
       "      <td>0</td>\n",
       "      <td>1</td>\n",
       "      <td>0</td>\n",
       "      <td>0.456509</td>\n",
       "      <td>0.750383</td>\n",
       "      <td>0.102988</td>\n",
       "      <td>RGU\\GuidedGradCAM\\ID167_iCOPE_S15_pain.npz</td>\n",
       "    </tr>\n",
       "    <tr>\n",
       "      <th>1</th>\n",
       "      <td>Datasets\\Folds\\0\\Test\\ID168_iCOPE_S15_pain.jpg</td>\n",
       "      <td>0</td>\n",
       "      <td>1</td>\n",
       "      <td>0</td>\n",
       "      <td>0.318261</td>\n",
       "      <td>1.598940</td>\n",
       "      <td>0.344880</td>\n",
       "      <td>RGU\\GuidedGradCAM\\ID168_iCOPE_S15_pain.npz</td>\n",
       "    </tr>\n",
       "    <tr>\n",
       "      <th>2</th>\n",
       "      <td>Datasets\\Folds\\0\\Test\\ID169_iCOPE_S15_pain.jpg</td>\n",
       "      <td>0</td>\n",
       "      <td>1</td>\n",
       "      <td>1</td>\n",
       "      <td>0.550553</td>\n",
       "      <td>0.421230</td>\n",
       "      <td>0.344274</td>\n",
       "      <td>RGU\\GuidedGradCAM\\ID169_iCOPE_S15_pain.npz</td>\n",
       "    </tr>\n",
       "    <tr>\n",
       "      <th>3</th>\n",
       "      <td>Datasets\\Folds\\0\\Test\\ID170_iCOPE_S15_pain.jpg</td>\n",
       "      <td>0</td>\n",
       "      <td>1</td>\n",
       "      <td>1</td>\n",
       "      <td>0.692392</td>\n",
       "      <td>0.528982</td>\n",
       "      <td>0.514498</td>\n",
       "      <td>RGU\\GuidedGradCAM\\ID170_iCOPE_S15_pain.npz</td>\n",
       "    </tr>\n",
       "    <tr>\n",
       "      <th>4</th>\n",
       "      <td>Datasets\\Folds\\0\\Test\\ID171_iCOPE_S15_nopain.jpg</td>\n",
       "      <td>0</td>\n",
       "      <td>0</td>\n",
       "      <td>0</td>\n",
       "      <td>0.292135</td>\n",
       "      <td>104.545883</td>\n",
       "      <td>0.027437</td>\n",
       "      <td>RGU\\GuidedGradCAM\\ID171_iCOPE_S15_nopain.npz</td>\n",
       "    </tr>\n",
       "    <tr>\n",
       "      <th>...</th>\n",
       "      <td>...</td>\n",
       "      <td>...</td>\n",
       "      <td>...</td>\n",
       "      <td>...</td>\n",
       "      <td>...</td>\n",
       "      <td>...</td>\n",
       "      <td>...</td>\n",
       "      <td>...</td>\n",
       "    </tr>\n",
       "    <tr>\n",
       "      <th>516</th>\n",
       "      <td>Datasets\\Folds\\9\\Test\\ID378_UNIFESP_S35_pain.jpg</td>\n",
       "      <td>9</td>\n",
       "      <td>1</td>\n",
       "      <td>1</td>\n",
       "      <td>0.997696</td>\n",
       "      <td>0.480532</td>\n",
       "      <td>3.969360</td>\n",
       "      <td>RGU\\GuidedGradCAM\\ID378_UNIFESP_S35_pain.npz</td>\n",
       "    </tr>\n",
       "    <tr>\n",
       "      <th>517</th>\n",
       "      <td>Datasets\\Folds\\9\\Test\\ID379_UNIFESP_S35_pain.jpg</td>\n",
       "      <td>9</td>\n",
       "      <td>1</td>\n",
       "      <td>1</td>\n",
       "      <td>0.981087</td>\n",
       "      <td>0.491574</td>\n",
       "      <td>3.617390</td>\n",
       "      <td>RGU\\GuidedGradCAM\\ID379_UNIFESP_S35_pain.npz</td>\n",
       "    </tr>\n",
       "    <tr>\n",
       "      <th>518</th>\n",
       "      <td>Datasets\\Folds\\9\\Test\\ID380_UNIFESP_S35_pain.jpg</td>\n",
       "      <td>9</td>\n",
       "      <td>1</td>\n",
       "      <td>1</td>\n",
       "      <td>0.953660</td>\n",
       "      <td>0.594893</td>\n",
       "      <td>2.919832</td>\n",
       "      <td>RGU\\GuidedGradCAM\\ID380_UNIFESP_S35_pain.npz</td>\n",
       "    </tr>\n",
       "    <tr>\n",
       "      <th>519</th>\n",
       "      <td>Datasets\\Folds\\9\\Test\\ID381_UNIFESP_S35_pain.jpg</td>\n",
       "      <td>9</td>\n",
       "      <td>1</td>\n",
       "      <td>1</td>\n",
       "      <td>0.974381</td>\n",
       "      <td>0.481758</td>\n",
       "      <td>3.755785</td>\n",
       "      <td>RGU\\GuidedGradCAM\\ID381_UNIFESP_S35_pain.npz</td>\n",
       "    </tr>\n",
       "    <tr>\n",
       "      <th>520</th>\n",
       "      <td>Datasets\\Folds\\9\\Test\\ID382_UNIFESP_S35_pain.jpg</td>\n",
       "      <td>9</td>\n",
       "      <td>1</td>\n",
       "      <td>1</td>\n",
       "      <td>0.707066</td>\n",
       "      <td>0.450894</td>\n",
       "      <td>1.120381</td>\n",
       "      <td>RGU\\GuidedGradCAM\\ID382_UNIFESP_S35_pain.npz</td>\n",
       "    </tr>\n",
       "  </tbody>\n",
       "</table>\n",
       "<p>521 rows × 8 columns</p>\n",
       "</div>"
      ],
      "text/plain": [
       "                                             img_path  fold  label  \\\n",
       "0      Datasets\\Folds\\0\\Test\\ID167_iCOPE_S15_pain.jpg     0      1   \n",
       "1      Datasets\\Folds\\0\\Test\\ID168_iCOPE_S15_pain.jpg     0      1   \n",
       "2      Datasets\\Folds\\0\\Test\\ID169_iCOPE_S15_pain.jpg     0      1   \n",
       "3      Datasets\\Folds\\0\\Test\\ID170_iCOPE_S15_pain.jpg     0      1   \n",
       "4    Datasets\\Folds\\0\\Test\\ID171_iCOPE_S15_nopain.jpg     0      0   \n",
       "..                                                ...   ...    ...   \n",
       "516  Datasets\\Folds\\9\\Test\\ID378_UNIFESP_S35_pain.jpg     9      1   \n",
       "517  Datasets\\Folds\\9\\Test\\ID379_UNIFESP_S35_pain.jpg     9      1   \n",
       "518  Datasets\\Folds\\9\\Test\\ID380_UNIFESP_S35_pain.jpg     9      1   \n",
       "519  Datasets\\Folds\\9\\Test\\ID381_UNIFESP_S35_pain.jpg     9      1   \n",
       "520  Datasets\\Folds\\9\\Test\\ID382_UNIFESP_S35_pain.jpg     9      1   \n",
       "\n",
       "     prediction  probability  sensitivity  infidelity  \\\n",
       "0             0     0.456509     0.750383    0.102988   \n",
       "1             0     0.318261     1.598940    0.344880   \n",
       "2             1     0.550553     0.421230    0.344274   \n",
       "3             1     0.692392     0.528982    0.514498   \n",
       "4             0     0.292135   104.545883    0.027437   \n",
       "..          ...          ...          ...         ...   \n",
       "516           1     0.997696     0.480532    3.969360   \n",
       "517           1     0.981087     0.491574    3.617390   \n",
       "518           1     0.953660     0.594893    2.919832   \n",
       "519           1     0.974381     0.481758    3.755785   \n",
       "520           1     0.707066     0.450894    1.120381   \n",
       "\n",
       "                                        mask_path  \n",
       "0      RGU\\GuidedGradCAM\\ID167_iCOPE_S15_pain.npz  \n",
       "1      RGU\\GuidedGradCAM\\ID168_iCOPE_S15_pain.npz  \n",
       "2      RGU\\GuidedGradCAM\\ID169_iCOPE_S15_pain.npz  \n",
       "3      RGU\\GuidedGradCAM\\ID170_iCOPE_S15_pain.npz  \n",
       "4    RGU\\GuidedGradCAM\\ID171_iCOPE_S15_nopain.npz  \n",
       "..                                            ...  \n",
       "516  RGU\\GuidedGradCAM\\ID378_UNIFESP_S35_pain.npz  \n",
       "517  RGU\\GuidedGradCAM\\ID379_UNIFESP_S35_pain.npz  \n",
       "518  RGU\\GuidedGradCAM\\ID380_UNIFESP_S35_pain.npz  \n",
       "519  RGU\\GuidedGradCAM\\ID381_UNIFESP_S35_pain.npz  \n",
       "520  RGU\\GuidedGradCAM\\ID382_UNIFESP_S35_pain.npz  \n",
       "\n",
       "[521 rows x 8 columns]"
      ]
     },
     "execution_count": 32,
     "metadata": {},
     "output_type": "execute_result"
    }
   ],
   "source": [
    "dataframe"
   ]
  },
  {
   "cell_type": "code",
   "execution_count": null,
   "id": "f43a42d1",
   "metadata": {},
   "outputs": [],
   "source": []
  },
  {
   "cell_type": "markdown",
   "id": "5e594875",
   "metadata": {},
   "source": [
    "# LIME With Facial Features"
   ]
  },
  {
   "cell_type": "code",
   "execution_count": null,
   "id": "9ea02ef7",
   "metadata": {},
   "outputs": [],
   "source": [
    "from captum.attr import Lime\n",
    "from XAI.metrics import  create_face_regions_masks\n",
    "import pickle\n",
    "from utils import resize_landmarks\n",
    "import cv2\n",
    "import torch\n",
    "from captum.attr import visualization as viz\n"
   ]
  },
  {
   "cell_type": "code",
   "execution_count": null,
   "id": "b7d5b6bf",
   "metadata": {},
   "outputs": [],
   "source": [
    "with open(f'Datasets/DatasetFaces/Landmarks/{id}.pkl', 'rb') as f:\n",
    "    landmarks = pickle.load(f)\n",
    "\n",
    "test = create_face_regions_masks(landmarks)\n",
    "\n",
    "test['eyes'] = test['right_eye'] + test['left_eye']\n",
    "test['eyebrown'] = test['right_eyebrown'] + test['left_eyebrown']\n",
    "test['nasolabial_fold'] = test['right_nasolabial_fold'] + test['left_nasolabial_fold']\n",
    "test['cheek'] = test['right_cheek'] + test['left_cheek']\n",
    "\n",
    "test.pop('right_eye')\n",
    "test.pop('left_eye')\n",
    "test.pop('right_eyebrown')\n",
    "test.pop('left_eyebrown')\n",
    "test.pop('right_nasolabial_fold')\n",
    "test.pop('left_nasolabial_fold')\n",
    "test.pop('right_cheek')\n",
    "test.pop('left_cheek')\n",
    "test.pop('outside')\n",
    "\n",
    "features = np.zeros((img_size,img_size))\n",
    "\n",
    "for i,mask in enumerate(test):\n",
    "    features[np.where(cv2.resize(test[mask], (img_size,img_size), interpolation=cv2.INTER_NEAREST) == 1)] = i\n",
    "\n",
    "features = np.stack([features] * 3, axis=0)"
   ]
  },
  {
   "cell_type": "code",
   "execution_count": null,
   "id": "ee955707",
   "metadata": {},
   "outputs": [],
   "source": [
    "from captum.attr._core.lime import get_exp_kernel_similarity_function\n",
    "from captum._utils.models.linear_model import SkLearnLinearRegression, SkLearnLasso\n"
   ]
  },
  {
   "cell_type": "code",
   "execution_count": null,
   "id": "b871d221",
   "metadata": {},
   "outputs": [],
   "source": [
    "exp_eucl_distance = get_exp_kernel_similarity_function('euclidean', kernel_width=1000)\n",
    "\n",
    "def iter_combinations(*args, **kwargs):\n",
    "    for i in range(2 **  len(test)):\n",
    "        yield torch.tensor([int(d) for d in bin(i)[2:].zfill( len(test))]).unsqueeze(0)\n",
    "\n",
    "\n",
    "lr_lime = Lime(\n",
    "    model, \n",
    "    interpretable_model=SkLearnLasso(alpha=0.08),  # build-in wrapped sklearn Linear Regression\n",
    "    similarity_func=exp_eucl_distance,\n",
    "    perturb_func=iter_combinations\n",
    ")\n",
    "\n",
    "\n",
    "attrs = lr_lime.attribute(\n",
    "    img_transformed,\n",
    "    feature_mask=torch.tensor(features, dtype=torch.int64),\n",
    "    n_samples=2 ** len(test),\n",
    "    perturbations_per_eval=16,\n",
    "    show_progress=True\n",
    ").squeeze(0)"
   ]
  },
  {
   "cell_type": "code",
   "execution_count": null,
   "id": "a19cc5db",
   "metadata": {},
   "outputs": [],
   "source": [
    "def show_attr(attr_map):\n",
    "    viz.visualize_image_attr(\n",
    "        attr_map.permute(1, 2, 0).numpy(),  # adjust shape to height, width, channels \n",
    "        method='heat_map',\n",
    "        sign='all',\n",
    "        show_colorbar=True\n",
    "    )\n",
    "    \n",
    "show_attr(attrs.cpu().detach())"
   ]
  },
  {
   "cell_type": "markdown",
   "id": "466ff32c",
   "metadata": {},
   "source": [
    "# RISE"
   ]
  },
  {
   "cell_type": "code",
   "execution_count": null,
   "id": "25827c37",
   "metadata": {},
   "outputs": [],
   "source": [
    "from XAI import RISE\n",
    "from models import NCNN, VGGFace\n",
    "import torch\n",
    "from dataloaders import presets\n",
    "from PIL import Image\n",
    "import matplotlib.pyplot as plt\n",
    "import numpy as np\n",
    "\n",
    "device = \"cuda\""
   ]
  },
  {
   "cell_type": "code",
   "execution_count": null,
   "id": "dfd5a162",
   "metadata": {},
   "outputs": [],
   "source": [
    "rise = RISE(model, input_size=(224,224), gpu_batch=10, device=device)\n",
    "\n",
    "rise.generate_masks(1000, 8, 0.1)"
   ]
  },
  {
   "cell_type": "code",
   "execution_count": null,
   "id": "d5e8c908",
   "metadata": {},
   "outputs": [],
   "source": [
    "plt.imshow(rise.masks[0].cpu()[0])"
   ]
  },
  {
   "cell_type": "code",
   "execution_count": null,
   "id": "1eb61791",
   "metadata": {},
   "outputs": [],
   "source": [
    "model.predict(img_transformed.unsqueeze(0).to(device))"
   ]
  },
  {
   "cell_type": "code",
   "execution_count": null,
   "id": "03b07b70",
   "metadata": {},
   "outputs": [],
   "source": [
    "plt.imshow(mask.cpu())\n",
    "plt.imshow(img.resize((224,224)), alpha=0.5)"
   ]
  }
 ],
 "metadata": {
  "kernelspec": {
   "display_name": "doutorado",
   "language": "python",
   "name": "python3"
  },
  "language_info": {
   "codemirror_mode": {
    "name": "ipython",
    "version": 3
   },
   "file_extension": ".py",
   "mimetype": "text/x-python",
   "name": "python",
   "nbconvert_exporter": "python",
   "pygments_lexer": "ipython3",
   "version": "3.10.16"
  }
 },
 "nbformat": 4,
 "nbformat_minor": 5
}
