{
 "cells": [
  {
   "cell_type": "code",
   "execution_count": null,
   "metadata": {},
   "outputs": [],
   "source": [
    "import yaml\n",
    "from utils.utils import load_config"
   ]
  },
  {
   "cell_type": "code",
   "execution_count": null,
   "metadata": {},
   "outputs": [],
   "source": [
    "path = 'models\\\\configs\\\\config_NCNN.yaml'"
   ]
  },
  {
   "cell_type": "code",
   "execution_count": null,
   "metadata": {},
   "outputs": [],
   "source": [
    "list_training = {'original': {'soft_label': False, 'label_smoothing': 0},\n",
    "                 'LS_01': {'soft_label': False, 'label_smoothing': 0.1},\n",
    "                 'LS_03': {'soft_label': False, 'label_smoothing': 0.3},\n",
    "                 'LS_05': {'soft_label': False, 'label_smoothing': 0.5},\n",
    "                 'SIGMOID': {'soft_label': 'sigmoid', 'label_smoothing': 0},\n",
    "                 'LINEAR': {'soft_label': 'linear', 'label_smoothing': 0},\n",
    "                 'STEP': {'soft_label': 'step', 'label_smoothing': 0}}"
   ]
  },
  {
   "cell_type": "code",
   "execution_count": null,
   "metadata": {},
   "outputs": [],
   "source": [
    "for trainining_paremeters in list_training.keys():\n",
    "    for i in range(0,10):\n",
    "\n",
    "        print(f'training: {trainining_paremeters} Fold: {i}')\n",
    "\n",
    "        config = load_config(path)\n",
    "        config['path_test'] = f'Datasets\\Folds\\{i}\\Test'\n",
    "        config['path_train'] = f'Datasets\\Folds\\{i}\\Train'\n",
    "        config['soft_label'] = list_training[trainining_paremeters]['soft_label']\n",
    "        config['label_smoothing'] = list_training[trainining_paremeters]['label_smoothing']\n",
    "\n",
    "        with open(path, 'w') as file:\n",
    "            yaml.dump(config, file)\n",
    "\n",
    "        !python train.py --config $path\n"
   ]
  }
 ],
 "metadata": {
  "language_info": {
   "name": "python"
  }
 },
 "nbformat": 4,
 "nbformat_minor": 2
}
