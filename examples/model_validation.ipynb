{
 "cells": [
  {
   "cell_type": "code",
   "execution_count": 3,
   "metadata": {},
   "outputs": [],
   "source": [
    "import os\n",
    "import torch\n",
    "from sklearn.metrics import accuracy_score, f1_score, precision_score, recall_score\n",
    "from dataloaders import VGGNBDataset\n",
    "from models import VGGNB"
   ]
  },
  {
   "attachments": {},
   "cell_type": "markdown",
   "metadata": {},
   "source": [
    "### Load the model"
   ]
  },
  {
   "cell_type": "code",
   "execution_count": null,
   "metadata": {},
   "outputs": [],
   "source": [
    "model = VGGNB()\n",
    "model.load_state_dict(torch.load('models\\\\best_VGGNB.pt', map_location=torch.device('cpu')))\n",
    "model.eval()"
   ]
  },
  {
   "attachments": {},
   "cell_type": "markdown",
   "metadata": {},
   "source": [
    "### Load the dataset using the dataloader\n",
    "\n",
    "Here we are validating on fold 0. The dataloader will automatically apply all the necessary transformations."
   ]
  },
  {
   "cell_type": "code",
   "execution_count": 4,
   "metadata": {},
   "outputs": [],
   "source": [
    "test_dataset = VGGNBDataset(img_dir=os.path.join('Datasets','Folds'),\n",
    "                            fold='0',\n",
    "                            mode='Test')"
   ]
  },
  {
   "attachments": {},
   "cell_type": "markdown",
   "metadata": {},
   "source": [
    "### Making a prediction\n",
    "\n",
    "A simple prediction can be made using the model's .predict() method."
   ]
  },
  {
   "cell_type": "code",
   "execution_count": 6,
   "metadata": {},
   "outputs": [],
   "source": [
    "test_sample = test_dataset[0]\n",
    "\n",
    "image = test_sample['image']\n",
    "label = test_sample['label']"
   ]
  },
  {
   "attachments": {},
   "cell_type": "markdown",
   "metadata": {},
   "source": [
    "The .predict() method return the softmax outputs.\n",
    "\n",
    "The tensor returned is made of the probabilities of \"No Pain\" [0] and \"Pain\" [1]."
   ]
  },
  {
   "cell_type": "code",
   "execution_count": 7,
   "metadata": {},
   "outputs": [
    {
     "data": {
      "text/plain": [
       "tensor([[0.0348, 0.9652]], grad_fn=<SoftmaxBackward0>)"
      ]
     },
     "execution_count": 7,
     "metadata": {},
     "output_type": "execute_result"
    }
   ],
   "source": [
    "model.predict(image.unsqueeze(dim=0))"
   ]
  },
  {
   "attachments": {},
   "cell_type": "markdown",
   "metadata": {},
   "source": [
    "### Validate\n",
    "\n",
    "We are going to validate using scikit-learn metrics."
   ]
  },
  {
   "cell_type": "code",
   "execution_count": 8,
   "metadata": {},
   "outputs": [
    {
     "name": "stdout",
     "output_type": "stream",
     "text": [
      "\n",
      "Accuracy: 0.8846\n",
      "F1 Score: 0.9032\n",
      "Precision Score: 0.8235\n",
      "Recall Score: 1.0000\n"
     ]
    }
   ],
   "source": [
    "labels = []\n",
    "preds = []\n",
    "\n",
    "for test_sample in test_dataset:\n",
    "    image = test_sample['image']\n",
    "    label = test_sample['label']\n",
    "    \n",
    "    _, pred = torch.max(model.predict(image.unsqueeze(dim=0)), 1)\n",
    "\n",
    "    labels.append(label)\n",
    "    preds.append(pred.detach().numpy())\n",
    "\n",
    "val_acc = accuracy_score(labels, preds)\n",
    "val_f1 = f1_score(labels, preds)\n",
    "val_precision = precision_score(labels, preds)\n",
    "val_recall = recall_score(labels, preds)\n",
    "\n",
    "print()\n",
    "print(f'Accuracy: {val_acc:.4f}')\n",
    "print(f'F1 Score: {val_f1:.4f}')\n",
    "print(f'Precision Score: {val_precision:.4f}')\n",
    "print(f'Recall Score: {val_recall:.4f}')"
   ]
  }
 ],
 "metadata": {
  "kernelspec": {
   "display_name": "Python 3",
   "language": "python",
   "name": "python3"
  },
  "language_info": {
   "codemirror_mode": {
    "name": "ipython",
    "version": 3
   },
   "file_extension": ".py",
   "mimetype": "text/x-python",
   "name": "python",
   "nbconvert_exporter": "python",
   "pygments_lexer": "ipython3",
   "version": "3.7.8"
  },
  "orig_nbformat": 4
 },
 "nbformat": 4,
 "nbformat_minor": 2
}
